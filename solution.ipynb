{
 "cells": [
  {
   "cell_type": "markdown",
   "id": "ecdb68f0",
   "metadata": {},
   "source": [
    "### Install Required Packages"
   ]
  },
  {
   "cell_type": "code",
   "execution_count": 50,
   "id": "1d973833",
   "metadata": {},
   "outputs": [
    {
     "name": "stdout",
     "output_type": "stream",
     "text": [
      "\n",
      "\u001b[1m[\u001b[0m\u001b[34;49mnotice\u001b[0m\u001b[1;39;49m]\u001b[0m\u001b[39;49m A new release of pip is available: \u001b[0m\u001b[31;49m24.0\u001b[0m\u001b[39;49m -> \u001b[0m\u001b[32;49m25.2\u001b[0m\n",
      "\u001b[1m[\u001b[0m\u001b[34;49mnotice\u001b[0m\u001b[1;39;49m]\u001b[0m\u001b[39;49m To update, run: \u001b[0m\u001b[32;49mpip install --upgrade pip\u001b[0m\n",
      "Note: you may need to restart the kernel to use updated packages.\n"
     ]
    }
   ],
   "source": [
    "pip install langchain langchain-community langchain-google-vertexai yfinance mlflow pydantic --q"
   ]
  },
  {
   "cell_type": "code",
   "execution_count": 51,
   "id": "28be64c6",
   "metadata": {},
   "outputs": [
    {
     "name": "stdout",
     "output_type": "stream",
     "text": [
      "\n",
      "\u001b[1m[\u001b[0m\u001b[34;49mnotice\u001b[0m\u001b[1;39;49m]\u001b[0m\u001b[39;49m A new release of pip is available: \u001b[0m\u001b[31;49m24.0\u001b[0m\u001b[39;49m -> \u001b[0m\u001b[32;49m25.2\u001b[0m\n",
      "\u001b[1m[\u001b[0m\u001b[34;49mnotice\u001b[0m\u001b[1;39;49m]\u001b[0m\u001b[39;49m To update, run: \u001b[0m\u001b[32;49mpip install --upgrade pip\u001b[0m\n",
      "Note: you may need to restart the kernel to use updated packages.\n"
     ]
    }
   ],
   "source": [
    "pip install serpapi tqdm --q"
   ]
  },
  {
   "cell_type": "markdown",
   "id": "ec9734d5",
   "metadata": {},
   "source": [
    "### Imports and Environment Setup\n"
   ]
  },
  {
   "cell_type": "code",
   "execution_count": 52,
   "id": "101a8268",
   "metadata": {},
   "outputs": [],
   "source": [
    "#Imports and environment\n",
    "\n",
    "import os\n",
    "import json\n",
    "import time\n",
    "from typing import List\n",
    "from pydantic import BaseModel, Field\n",
    "from dotenv import load_dotenv\n",
    "\n",
    "import mlflow\n",
    "import yfinance as yf\n",
    "import google.generativeai as genai\n",
    "\n",
    "# Load API key from .env\n",
    "load_dotenv()\n",
    "api_key = os.getenv(\"GOOGLE_API_KEY\")\n",
    "genai.configure(api_key=api_key)"
   ]
  },
  {
   "cell_type": "markdown",
   "id": "3d0e58a1",
   "metadata": {},
   "source": [
    "### Config and Environment Variables\n",
    "### Set these before running"
   ]
  },
  {
   "cell_type": "code",
   "execution_count": 53,
   "id": "976b2f7c",
   "metadata": {},
   "outputs": [
    {
     "name": "stdout",
     "output_type": "stream",
     "text": [
      "MLflow Tracking URI: http://20.75.92.162:5000\n"
     ]
    },
    {
     "data": {
      "text/plain": [
       "<Experiment: artifact_location='mlflow-artifacts:/155267235024431033', creation_time=1758471929121, experiment_id='155267235024431033', last_update_time=1758471929121, lifecycle_stage='active', name='market_sentiment_vishalverma', tags={}>"
      ]
     },
     "execution_count": 53,
     "metadata": {},
     "output_type": "execute_result"
    }
   ],
   "source": [
    "os.environ[\"VERTEX_MODEL_NAME\"] = \"gemini-2.0-flash\"\n",
    "\n",
    "mlflow.set_tracking_uri(\"http://20.75.92.162:5000\")\n",
    "print(\"MLflow Tracking URI:\", mlflow.get_tracking_uri())\n",
    "\n",
    "experiment_name = \"market_sentiment_vishalverma\"\n",
    "mlflow.set_experiment(experiment_name)"
   ]
  },
  {
   "cell_type": "markdown",
   "id": "a3feb7db",
   "metadata": {},
   "source": [
    "### Define output schema for structured sentiment"
   ]
  },
  {
   "cell_type": "code",
   "execution_count": 54,
   "id": "773797ef",
   "metadata": {},
   "outputs": [],
   "source": [
    "class SentimentProfile(BaseModel):\n",
    "    company_name: str\n",
    "    stock_code: str\n",
    "    newsdesc: str\n",
    "    sentiment: str\n",
    "    people_names: List[str]\n",
    "    places_names: List[str]\n",
    "    other_companies_referred: List[str]\n",
    "    related_industries: List[str]\n",
    "    market_implications: str\n",
    "    confidence_score: float"
   ]
  },
  {
   "cell_type": "markdown",
   "id": "7ab1dd26",
   "metadata": {},
   "source": [
    "#### Step 1: Resolve stock ticker from company name"
   ]
  },
  {
   "cell_type": "code",
   "execution_count": 55,
   "id": "5ac7a3e4",
   "metadata": {},
   "outputs": [],
   "source": [
    "STATIC_TICKERS = {\n",
    "    \"Apple Inc\": \"AAPL\",\n",
    "    \"Google\": \"GOOGL\",\n",
    "    \"Microsoft\": \"MSFT\",\n",
    "    \"Amazon\": \"AMZN\",\n",
    "    \"Tesla\": \"TSLA\"\n",
    "}\n",
    "\n",
    "def get_stock_code(company_name: str) -> str:\n",
    "    try:\n",
    "        ticker = yf.Ticker(company_name)\n",
    "        if ticker.ticker:\n",
    "            return ticker.ticker\n",
    "    except Exception:\n",
    "        pass\n",
    "    return STATIC_TICKERS.get(company_name, \"UNKNOWN\")"
   ]
  },
  {
   "cell_type": "markdown",
   "id": "e8d1c664",
   "metadata": {},
   "source": [
    "### News Fetcher\n",
    "#### Step 2: Fetch company news (SerpAPI or fallback to yfinance)"
   ]
  },
  {
   "cell_type": "code",
   "execution_count": 56,
   "id": "c8cb70c9",
   "metadata": {},
   "outputs": [],
   "source": [
    "def fetch_company_news(stock_code: str, top_n: int = 5) -> str:\n",
    "    try:\n",
    "        tk = yf.Ticker(stock_code)\n",
    "        news = tk.news if hasattr(tk, \"news\") else []\n",
    "        summaries = [n.get(\"title\", \"\") for n in news[:top_n]]\n",
    "        return \" | \".join(summaries) if summaries else \"No recent news found.\"\n",
    "    except Exception:\n",
    "        return \"No news available.\""
   ]
  },
  {
   "cell_type": "markdown",
   "id": "06d4e804",
   "metadata": {},
   "source": [
    "### Sentiment Analyzer with Gemini\n",
    "#### Step 3: Sentiment analysis with Gemini LLM"
   ]
  },
  {
   "cell_type": "code",
   "execution_count": 57,
   "id": "d3269d0c",
   "metadata": {},
   "outputs": [],
   "source": [
    "# Analyze sentiment using Google Gemini API\n",
    "\n",
    "from langchain.output_parsers import PydanticOutputParser\n",
    "\n",
    "parser = PydanticOutputParser(pydantic_object=SentimentProfile)\n",
    "\n",
    "def analyze_sentiment(company_name: str, stock_code: str, newsdesc: str) -> dict:\n",
    "    prompt = f\"\"\"\n",
    "    You are a market sentiment analyzer.\n",
    "    Analyze the following news about {company_name} ({stock_code}).\n",
    "\n",
    "    News: {newsdesc}\n",
    "\n",
    "    Provide a structured JSON with the following fields:\n",
    "    {parser.get_format_instructions()}\n",
    "    \"\"\"\n",
    "    \n",
    "    client = genai.GenerativeModel(\"gemini-2.0-flash\")\n",
    "    response = client.generate_content(prompt)\n",
    "    output_text = response.text\n",
    "    \n",
    "    return parser.parse(output_text).dict()"
   ]
  },
  {
   "cell_type": "code",
   "execution_count": 58,
   "id": "a5afac7d",
   "metadata": {},
   "outputs": [
    {
     "name": "stdout",
     "output_type": "stream",
     "text": [
      "{'company_name': 'Google', 'stock_code': 'GOOGL', 'newsdesc': 'Google announced a new AI product today. Market is reacting positively.', 'sentiment': 'positive', 'people_names': [], 'places_names': [], 'other_companies_referred': [], 'related_industries': ['Artificial Intelligence'], 'market_implications': \"Positive market reaction suggests investor confidence in Google's AI strategy and its potential to generate future revenue.\", 'confidence_score': 0.95}\n"
     ]
    },
    {
     "name": "stderr",
     "output_type": "stream",
     "text": [
      "/tmp/ipykernel_6058/3591070709.py:22: PydanticDeprecatedSince20: The `dict` method is deprecated; use `model_dump` instead. Deprecated in Pydantic V2.0 to be removed in V3.0. See Pydantic V2 Migration Guide at https://errors.pydantic.dev/2.11/migration/\n",
      "  return parser.parse(output_text).dict()\n"
     ]
    }
   ],
   "source": [
    "# Check the analyze_sentiment function\n",
    "company = \"Google\"\n",
    "stock_code = \"GOOGL\"\n",
    "news = \"Google announced a new AI product today. Market is reacting positively.\"\n",
    "\n",
    "result = analyze_sentiment(company, stock_code, news)\n",
    "print(result)"
   ]
  },
  {
   "cell_type": "markdown",
   "id": "da832e00",
   "metadata": {},
   "source": [
    "### MLflow Integration\n",
    "#### Step 4: MLflow logging"
   ]
  },
  {
   "cell_type": "code",
   "execution_count": 59,
   "id": "ff942657",
   "metadata": {},
   "outputs": [],
   "source": [
    "# MLflow logging\n",
    "\n",
    "def log_to_mlflow(company_name: str, stock_code: str, newsdesc: str, sentiment_result: dict):\n",
    "    run_name = f\"vishalverma_sentiment_{company_name}_{int(time.time())}\"\n",
    "    with mlflow.start_run(run_name=f\"sentiment_{company_name}_{int(time.time())}\"):\n",
    "        mlflow.log_param(\"company_name\", company_name)\n",
    "        mlflow.log_param(\"stock_code\", stock_code)\n",
    "        mlflow.log_text(newsdesc, \"news_input.txt\")\n",
    "        mlflow.log_dict(sentiment_result, \"sentiment_profile.json\")\n",
    "        mlflow.log_metric(\"confidence_score\", sentiment_result.get(\"confidence_score\", 0.0))"
   ]
  },
  {
   "cell_type": "markdown",
   "id": "53f709a1",
   "metadata": {},
   "source": [
    "### Full Pipeline\n",
    "#### Step 5: Full pipeline"
   ]
  },
  {
   "cell_type": "code",
   "execution_count": 60,
   "id": "0a831a29",
   "metadata": {},
   "outputs": [],
   "source": [
    "# Full pipeline\n",
    "\n",
    "def run_pipeline(company_name: str) -> dict:\n",
    "    stock_code = get_stock_code(company_name)\n",
    "    newsdesc = fetch_company_news(stock_code)\n",
    "    sentiment_result = analyze_sentiment(company_name, stock_code, newsdesc)\n",
    "    log_to_mlflow(company_name, stock_code, newsdesc, sentiment_result)\n",
    "    return sentiment_result"
   ]
  },
  {
   "cell_type": "markdown",
   "id": "075d5a9f",
   "metadata": {},
   "source": [
    "### Execute the pipeline"
   ]
  },
  {
   "cell_type": "code",
   "execution_count": 61,
   "id": "eb2ae62e",
   "metadata": {},
   "outputs": [
    {
     "name": "stdout",
     "output_type": "stream",
     "text": [
      "Final Sentiment Profile:\n",
      " {\n",
      "  \"company_name\": \"Google\",\n",
      "  \"stock_code\": \"GOOGL\",\n",
      "  \"newsdesc\": \"Google has announced the launch of its new AI-powered search feature, which integrates advanced generative AI capabilities to provide more contextual and personalized search results. Analysts predict this could significantly boost Google's advertising revenue as businesses leverage the new feature for targeted campaigns. Some competitors have expressed concern over privacy implications, while investors are optimistic about the growth potential in the AI-driven search market. Overall, the market reacted positively to the announcement, with Google's stock price rising 3% in after-hours trading.\",\n",
      "  \"sentiment\": \"Positive\",\n",
      "  \"people_names\": [],\n",
      "  \"places_names\": [],\n",
      "  \"other_companies_referred\": [],\n",
      "  \"related_industries\": [\n",
      "    \"Artificial Intelligence\",\n",
      "    \"Search Engines\",\n",
      "    \"Advertising\",\n",
      "    \"Technology\"\n",
      "  ],\n",
      "  \"market_implications\": \"Potential increase in Google's advertising revenue, growth in the AI-driven search market, and a positive reaction from investors with a 3% stock price increase in after-hours trading.\",\n",
      "  \"confidence_score\": 0.9\n",
      "}\n"
     ]
    },
    {
     "name": "stderr",
     "output_type": "stream",
     "text": [
      "/tmp/ipykernel_6058/3591070709.py:22: PydanticDeprecatedSince20: The `dict` method is deprecated; use `model_dump` instead. Deprecated in Pydantic V2.0 to be removed in V3.0. See Pydantic V2 Migration Guide at https://errors.pydantic.dev/2.11/migration/\n",
      "  return parser.parse(output_text).dict()\n"
     ]
    }
   ],
   "source": [
    "company_name = \"Google\"\n",
    "newsdesc = \"\"\"\n",
    "Google has announced the launch of its new AI-powered search feature, which integrates advanced generative AI\n",
    "capabilities to provide more contextual and personalized search results. Analysts predict this could significantly\n",
    "boost Google's advertising revenue as businesses leverage the new feature for targeted campaigns. Some competitors\n",
    "have expressed concern over privacy implications, while investors are optimistic about the growth potential in the\n",
    "AI-driven search market. Overall, the market reacted positively to the announcement, with Google's stock price\n",
    "rising 3% in after-hours trading.\n",
    "\"\"\"\n",
    "stock_code = \"GOOGL\"\n",
    "profile = analyze_sentiment(company_name, stock_code, newsdesc)\n",
    "print(\"Final Sentiment Profile:\\n\", json.dumps(profile, indent=2))"
   ]
  },
  {
   "cell_type": "code",
   "execution_count": 62,
   "id": "1db17cbd",
   "metadata": {},
   "outputs": [
    {
     "name": "stderr",
     "output_type": "stream",
     "text": [
      "/tmp/ipykernel_6058/3591070709.py:22: PydanticDeprecatedSince20: The `dict` method is deprecated; use `model_dump` instead. Deprecated in Pydantic V2.0 to be removed in V3.0. See Pydantic V2 Migration Guide at https://errors.pydantic.dev/2.11/migration/\n",
      "  return parser.parse(output_text).dict()\n"
     ]
    },
    {
     "name": "stdout",
     "output_type": "stream",
     "text": [
      "🏃 View run sentiment_Google_1758472002 at: http://20.75.92.162:5000/#/experiments/155267235024431033/runs/730991e20daf48c1a00df8271304fb39\n",
      "🧪 View experiment at: http://20.75.92.162:5000/#/experiments/155267235024431033\n",
      "Final Sentiment Profile:\n",
      " {\n",
      "  \"company_name\": \"Google\",\n",
      "  \"stock_code\": \"GOOGL\",\n",
      "  \"newsdesc\": \"No recent news found.\",\n",
      "  \"sentiment\": \"Neutral\",\n",
      "  \"people_names\": [],\n",
      "  \"places_names\": [],\n",
      "  \"other_companies_referred\": [],\n",
      "  \"related_industries\": [],\n",
      "  \"market_implications\": \"Market sentiment cannot be determined due to the absence of news.\",\n",
      "  \"confidence_score\": 0.5\n",
      "}\n"
     ]
    }
   ],
   "source": [
    "# Execute the pipeline\n",
    "\n",
    "company = \"Google\"\n",
    "profile = run_pipeline(company)\n",
    "print(\"Final Sentiment Profile:\\n\", json.dumps(profile, indent=2))"
   ]
  },
  {
   "cell_type": "code",
   "execution_count": 63,
   "id": "6d79f2ed",
   "metadata": {},
   "outputs": [
    {
     "name": "stdout",
     "output_type": "stream",
     "text": [
      "Note: you may need to restart the kernel to use updated packages.\n"
     ]
    }
   ],
   "source": [
    "pip freeze > requirements.txt"
   ]
  }
 ],
 "metadata": {
  "kernelspec": {
   "display_name": "genai",
   "language": "python",
   "name": "python3"
  },
  "language_info": {
   "codemirror_mode": {
    "name": "ipython",
    "version": 3
   },
   "file_extension": ".py",
   "mimetype": "text/x-python",
   "name": "python",
   "nbconvert_exporter": "python",
   "pygments_lexer": "ipython3",
   "version": "3.11.13"
  }
 },
 "nbformat": 4,
 "nbformat_minor": 5
}
